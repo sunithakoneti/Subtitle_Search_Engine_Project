{
 "cells": [
  {
   "cell_type": "markdown",
   "id": "cc39f462",
   "metadata": {},
   "source": [
    "### Reading the data"
   ]
  },
  {
   "cell_type": "code",
   "execution_count": 1,
   "id": "834fc0ba",
   "metadata": {},
   "outputs": [
    {
     "name": "stdout",
     "output_type": "stream",
     "text": [
      "       num                                               name  \\\n",
      "0  9180533                         the.message.(1976).eng.1cd   \n",
      "1  9180583  here.comes.the.grump.s01.e09.joltin.jack.in.bo...   \n",
      "2  9180592    yumis.cells.s02.e13.episode.2.13.(2022).eng.1cd   \n",
      "3  9180594    yumis.cells.s02.e14.episode.2.14.(2022).eng.1cd   \n",
      "4  9180600                              broker.(2022).eng.1cd   \n",
      "\n",
      "                                             content  \n",
      "0  1\\r\\n00:00:06,000 --> 00:00:12,074\\r\\nWatch an...  \n",
      "1  1\\r\\n00:00:29,359 --> 00:00:32,048\\r\\nAh! Ther...  \n",
      "2  1\\r\\n00:00:53,200 --> 00:00:56,030\\r\\n<i>Yumi'...  \n",
      "3  1\\r\\n00:00:06,000 --> 00:00:12,074\\r\\nWatch an...  \n",
      "4  ï»¿1\\r\\n00:00:06,000 --> 00:00:12,074\\r\\nWatch...  \n"
     ]
    }
   ],
   "source": [
    "import sqlite3\n",
    "import pandas as pd\n",
    "import zipfile\n",
    "import io\n",
    "\n",
    "# Connect to the SQLite database\n",
    "conn = sqlite3.connect(r\"C:\\Users\\91998\\OneDrive\\Desktop\\Internship_folder\\Search_Engine\\data\\eng_subtitles_database.db\")\n",
    "\n",
    "# Query to fetch data from the 'zipfiles' table\n",
    "query = \"SELECT num, name, content FROM zipfiles\"\n",
    "\n",
    "# Fetch data from the 'zipfiles' table\n",
    "data = conn.execute(query).fetchall()\n",
    "\n",
    "# Close the database connection\n",
    "conn.close()\n",
    "\n",
    "# Decode the content and store it in a DataFrame\n",
    "subtitles_list = []\n",
    "errors = []\n",
    "\n",
    "for num, name, content in data:\n",
    "    try:\n",
    "        # Try to decompress as ZIP format\n",
    "        with zipfile.ZipFile(io.BytesIO(content)) as z:\n",
    "            # Assuming there's only one file in the ZIP archive\n",
    "            file_name = z.namelist()[0]\n",
    "            decoded_content = z.read(file_name).decode('latin-1')\n",
    "    except zipfile.BadZipFile:\n",
    "        try:\n",
    "            # Try decoding directly as 'latin-1' encoded string\n",
    "            decoded_content = content.decode('latin-1')\n",
    "        except Exception as e:\n",
    "            errors.append((name, str(e)))\n",
    "            print(f\"Error decoding subtitle {name}: {e}\")\n",
    "            continue\n",
    "    except Exception as e:\n",
    "        errors.append((name, str(e)))\n",
    "        print(f\"Error processing subtitle {name}: {e}\")\n",
    "        continue\n",
    "    \n",
    "    subtitles_list.append([num, name, decoded_content])\n",
    "\n",
    "# Create a DataFrame from the decoded subtitles list\n",
    "df = pd.DataFrame(subtitles_list, columns=['num', 'name', 'content'])\n",
    "\n",
    "# Display the DataFrame\n",
    "print(df.head())\n",
    "\n",
    "# Display the errors\n",
    "if errors:\n",
    "    print(\"\\nErrors:\")\n",
    "    for name, error in errors:\n",
    "        print(f\"{name}: {error}\")\n"
   ]
  },
  {
   "cell_type": "markdown",
   "id": "2e26db12",
   "metadata": {},
   "source": [
    "## Read the data from csv file"
   ]
  },
  {
   "cell_type": "markdown",
   "id": "898c1b2b",
   "metadata": {},
   "source": [
    "### Removing time stamp deom the content"
   ]
  },
  {
   "cell_type": "code",
   "execution_count": 2,
   "id": "02e8a1f3",
   "metadata": {},
   "outputs": [
    {
     "data": {
      "text/html": [
       "<div>\n",
       "<style scoped>\n",
       "    .dataframe tbody tr th:only-of-type {\n",
       "        vertical-align: middle;\n",
       "    }\n",
       "\n",
       "    .dataframe tbody tr th {\n",
       "        vertical-align: top;\n",
       "    }\n",
       "\n",
       "    .dataframe thead th {\n",
       "        text-align: right;\n",
       "    }\n",
       "</style>\n",
       "<table border=\"1\" class=\"dataframe\">\n",
       "  <thead>\n",
       "    <tr style=\"text-align: right;\">\n",
       "      <th></th>\n",
       "      <th>num</th>\n",
       "      <th>name</th>\n",
       "      <th>content</th>\n",
       "    </tr>\n",
       "  </thead>\n",
       "  <tbody>\n",
       "    <tr>\n",
       "      <th>0</th>\n",
       "      <td>9180533</td>\n",
       "      <td>the.message.(1976).eng.1cd</td>\n",
       "      <td>1\\r\\n00:00:06,000 --&gt; 00:00:12,074\\r\\nWatch an...</td>\n",
       "    </tr>\n",
       "    <tr>\n",
       "      <th>1</th>\n",
       "      <td>9180583</td>\n",
       "      <td>here.comes.the.grump.s01.e09.joltin.jack.in.bo...</td>\n",
       "      <td>1\\r\\n00:00:29,359 --&gt; 00:00:32,048\\r\\nAh! Ther...</td>\n",
       "    </tr>\n",
       "    <tr>\n",
       "      <th>2</th>\n",
       "      <td>9180592</td>\n",
       "      <td>yumis.cells.s02.e13.episode.2.13.(2022).eng.1cd</td>\n",
       "      <td>1\\r\\n00:00:53,200 --&gt; 00:00:56,030\\r\\n&lt;i&gt;Yumi'...</td>\n",
       "    </tr>\n",
       "    <tr>\n",
       "      <th>3</th>\n",
       "      <td>9180594</td>\n",
       "      <td>yumis.cells.s02.e14.episode.2.14.(2022).eng.1cd</td>\n",
       "      <td>1\\r\\n00:00:06,000 --&gt; 00:00:12,074\\r\\nWatch an...</td>\n",
       "    </tr>\n",
       "    <tr>\n",
       "      <th>4</th>\n",
       "      <td>9180600</td>\n",
       "      <td>broker.(2022).eng.1cd</td>\n",
       "      <td>ï»¿1\\r\\n00:00:06,000 --&gt; 00:00:12,074\\r\\nWatch...</td>\n",
       "    </tr>\n",
       "  </tbody>\n",
       "</table>\n",
       "</div>"
      ],
      "text/plain": [
       "       num                                               name  \\\n",
       "0  9180533                         the.message.(1976).eng.1cd   \n",
       "1  9180583  here.comes.the.grump.s01.e09.joltin.jack.in.bo...   \n",
       "2  9180592    yumis.cells.s02.e13.episode.2.13.(2022).eng.1cd   \n",
       "3  9180594    yumis.cells.s02.e14.episode.2.14.(2022).eng.1cd   \n",
       "4  9180600                              broker.(2022).eng.1cd   \n",
       "\n",
       "                                             content  \n",
       "0  1\\r\\n00:00:06,000 --> 00:00:12,074\\r\\nWatch an...  \n",
       "1  1\\r\\n00:00:29,359 --> 00:00:32,048\\r\\nAh! Ther...  \n",
       "2  1\\r\\n00:00:53,200 --> 00:00:56,030\\r\\n<i>Yumi'...  \n",
       "3  1\\r\\n00:00:06,000 --> 00:00:12,074\\r\\nWatch an...  \n",
       "4  ï»¿1\\r\\n00:00:06,000 --> 00:00:12,074\\r\\nWatch...  "
      ]
     },
     "execution_count": 2,
     "metadata": {},
     "output_type": "execute_result"
    }
   ],
   "source": [
    "import pandas as pd\n",
    "subtitle_df=pd.read_csv(r\"C:\\Users\\91998\\OneDrive\\Desktop\\Internship_folder\\Search_Engine\\csv_files\\subtitle_data.csv\")\n",
    "subtitle_df.head()"
   ]
  },
  {
   "cell_type": "code",
   "execution_count": 3,
   "id": "f8fef594",
   "metadata": {
    "scrolled": true
   },
   "outputs": [
    {
     "data": {
      "text/html": [
       "<div>\n",
       "<style scoped>\n",
       "    .dataframe tbody tr th:only-of-type {\n",
       "        vertical-align: middle;\n",
       "    }\n",
       "\n",
       "    .dataframe tbody tr th {\n",
       "        vertical-align: top;\n",
       "    }\n",
       "\n",
       "    .dataframe thead th {\n",
       "        text-align: right;\n",
       "    }\n",
       "</style>\n",
       "<table border=\"1\" class=\"dataframe\">\n",
       "  <thead>\n",
       "    <tr style=\"text-align: right;\">\n",
       "      <th></th>\n",
       "      <th>content</th>\n",
       "      <th>cleaned_content</th>\n",
       "    </tr>\n",
       "  </thead>\n",
       "  <tbody>\n",
       "    <tr>\n",
       "      <th>0</th>\n",
       "      <td>1\\r\\n00:00:06,000 --&gt; 00:00:12,074\\r\\nWatch an...</td>\n",
       "      <td>Watch any video online with Open-SUBTITLESFree...</td>\n",
       "    </tr>\n",
       "    <tr>\n",
       "      <th>1</th>\n",
       "      <td>1\\r\\n00:00:29,359 --&gt; 00:00:32,048\\r\\nAh! Ther...</td>\n",
       "      <td>Ah! There's PrincessDawn and Terry with the2Bl...</td>\n",
       "    </tr>\n",
       "    <tr>\n",
       "      <th>2</th>\n",
       "      <td>1\\r\\n00:00:53,200 --&gt; 00:00:56,030\\r\\n&lt;i&gt;Yumi'...</td>\n",
       "      <td>Yumi's Cells 22Episode 36Extremely Polite Yumi...</td>\n",
       "    </tr>\n",
       "    <tr>\n",
       "      <th>3</th>\n",
       "      <td>1\\r\\n00:00:06,000 --&gt; 00:00:12,074\\r\\nWatch an...</td>\n",
       "      <td>Watch any video online with Open-SUBTITLESFree...</td>\n",
       "    </tr>\n",
       "    <tr>\n",
       "      <th>4</th>\n",
       "      <td>ï»¿1\\r\\n00:00:06,000 --&gt; 00:00:12,074\\r\\nWatch...</td>\n",
       "      <td>Watch any video online with Open-SUBTITLESFree...</td>\n",
       "    </tr>\n",
       "    <tr>\n",
       "      <th>...</th>\n",
       "      <td>...</td>\n",
       "      <td>...</td>\n",
       "    </tr>\n",
       "    <tr>\n",
       "      <th>82493</th>\n",
       "      <td>ï»¿1\\r\\n00:01:16,284 --&gt; 00:01:19,537\\r\\nGod,\\...</td>\n",
       "      <td>God,why are you punishing me?2\"With red onhis ...</td>\n",
       "    </tr>\n",
       "    <tr>\n",
       "      <th>82494</th>\n",
       "      <td>1\\r\\n00:00:06,000 --&gt; 00:00:12,074\\r\\napi.Open...</td>\n",
       "      <td>api.OpenSubtitles.org is deprecated, pleaseimp...</td>\n",
       "    </tr>\n",
       "    <tr>\n",
       "      <th>82495</th>\n",
       "      <td>1\\r\\n00:00:01,001 --&gt; 00:00:04,630\\r\\n(Dramati...</td>\n",
       "      <td>(Dramatic orchestral music)2Advertise your pro...</td>\n",
       "    </tr>\n",
       "    <tr>\n",
       "      <th>82496</th>\n",
       "      <td>1\\r\\n00:00:06,000 --&gt; 00:00:12,074\\r\\nAdvertis...</td>\n",
       "      <td>Advertise your product or brand herecontact ww...</td>\n",
       "    </tr>\n",
       "    <tr>\n",
       "      <th>82497</th>\n",
       "      <td>1\\r\\n00:00:01,919 --&gt; 00:00:03,253\\r\\n(Sharp w...</td>\n",
       "      <td>(Sharp whistling)2- [Man] Hey, wait, wait!3(Gr...</td>\n",
       "    </tr>\n",
       "  </tbody>\n",
       "</table>\n",
       "<p>82498 rows × 2 columns</p>\n",
       "</div>"
      ],
      "text/plain": [
       "                                                 content  \\\n",
       "0      1\\r\\n00:00:06,000 --> 00:00:12,074\\r\\nWatch an...   \n",
       "1      1\\r\\n00:00:29,359 --> 00:00:32,048\\r\\nAh! Ther...   \n",
       "2      1\\r\\n00:00:53,200 --> 00:00:56,030\\r\\n<i>Yumi'...   \n",
       "3      1\\r\\n00:00:06,000 --> 00:00:12,074\\r\\nWatch an...   \n",
       "4      ï»¿1\\r\\n00:00:06,000 --> 00:00:12,074\\r\\nWatch...   \n",
       "...                                                  ...   \n",
       "82493  ï»¿1\\r\\n00:01:16,284 --> 00:01:19,537\\r\\nGod,\\...   \n",
       "82494  1\\r\\n00:00:06,000 --> 00:00:12,074\\r\\napi.Open...   \n",
       "82495  1\\r\\n00:00:01,001 --> 00:00:04,630\\r\\n(Dramati...   \n",
       "82496  1\\r\\n00:00:06,000 --> 00:00:12,074\\r\\nAdvertis...   \n",
       "82497  1\\r\\n00:00:01,919 --> 00:00:03,253\\r\\n(Sharp w...   \n",
       "\n",
       "                                         cleaned_content  \n",
       "0      Watch any video online with Open-SUBTITLESFree...  \n",
       "1      Ah! There's PrincessDawn and Terry with the2Bl...  \n",
       "2      Yumi's Cells 22Episode 36Extremely Polite Yumi...  \n",
       "3      Watch any video online with Open-SUBTITLESFree...  \n",
       "4      Watch any video online with Open-SUBTITLESFree...  \n",
       "...                                                  ...  \n",
       "82493  God,why are you punishing me?2\"With red onhis ...  \n",
       "82494  api.OpenSubtitles.org is deprecated, pleaseimp...  \n",
       "82495  (Dramatic orchestral music)2Advertise your pro...  \n",
       "82496  Advertise your product or brand herecontact ww...  \n",
       "82497  (Sharp whistling)2- [Man] Hey, wait, wait!3(Gr...  \n",
       "\n",
       "[82498 rows x 2 columns]"
      ]
     },
     "execution_count": 3,
     "metadata": {},
     "output_type": "execute_result"
    }
   ],
   "source": [
    "import re\n",
    "# Regular expression pattern to remove timestamps\n",
    "timestamp_pattern = r'\\d{2}:\\d{2}:\\d{2},\\d{3} --> \\d{2}:\\d{2}:\\d{2},\\d{3}'\n",
    "# Regular expression pattern to remove unwanted characters like '\\r', '\\n', 'ï»¿'\n",
    "unwanted_pattern = r'[\\r\\nï»¿]'\n",
    "\n",
    "# Function to clean the content\n",
    "def clean_content(text):\n",
    "    text = re.sub(timestamp_pattern, '', text)  # Remove timestamps\n",
    "    text = re.sub(unwanted_pattern, '', text)    # Remove unwanted characters\n",
    "    text = re.sub(r'<.*?>', '', text)            # Remove HTML tags\n",
    "    text = text.strip()                          # Strip leading/trailing whitespace\n",
    "    text = re.sub(r'^\\d+', '', text.strip())     # Remove leading '1'\n",
    "    return text.strip()\n",
    "\n",
    "# Apply the cleaning function to the 'content' column\n",
    "subtitle_df['cleaned_content'] = subtitle_df['content'].apply(clean_content)\n",
    "\n",
    "# Display the cleaned DataFrame\n",
    "subtitle_df[['content', 'cleaned_content']]"
   ]
  },
  {
   "cell_type": "code",
   "execution_count": 4,
   "id": "8d67f39f",
   "metadata": {},
   "outputs": [
    {
     "data": {
      "text/html": [
       "<div>\n",
       "<style scoped>\n",
       "    .dataframe tbody tr th:only-of-type {\n",
       "        vertical-align: middle;\n",
       "    }\n",
       "\n",
       "    .dataframe tbody tr th {\n",
       "        vertical-align: top;\n",
       "    }\n",
       "\n",
       "    .dataframe thead th {\n",
       "        text-align: right;\n",
       "    }\n",
       "</style>\n",
       "<table border=\"1\" class=\"dataframe\">\n",
       "  <thead>\n",
       "    <tr style=\"text-align: right;\">\n",
       "      <th></th>\n",
       "      <th>num</th>\n",
       "      <th>name</th>\n",
       "      <th>content</th>\n",
       "      <th>cleaned_content</th>\n",
       "    </tr>\n",
       "  </thead>\n",
       "  <tbody>\n",
       "    <tr>\n",
       "      <th>0</th>\n",
       "      <td>9180533</td>\n",
       "      <td>the.message.(1976).eng.1cd</td>\n",
       "      <td>1\\r\\n00:00:06,000 --&gt; 00:00:12,074\\r\\nWatch an...</td>\n",
       "      <td>Watch any video online with Open-SUBTITLESFree...</td>\n",
       "    </tr>\n",
       "    <tr>\n",
       "      <th>1</th>\n",
       "      <td>9180583</td>\n",
       "      <td>here.comes.the.grump.s01.e09.joltin.jack.in.bo...</td>\n",
       "      <td>1\\r\\n00:00:29,359 --&gt; 00:00:32,048\\r\\nAh! Ther...</td>\n",
       "      <td>Ah! There's PrincessDawn and Terry with the2Bl...</td>\n",
       "    </tr>\n",
       "    <tr>\n",
       "      <th>2</th>\n",
       "      <td>9180592</td>\n",
       "      <td>yumis.cells.s02.e13.episode.2.13.(2022).eng.1cd</td>\n",
       "      <td>1\\r\\n00:00:53,200 --&gt; 00:00:56,030\\r\\n&lt;i&gt;Yumi'...</td>\n",
       "      <td>Yumi's Cells 22Episode 36Extremely Polite Yumi...</td>\n",
       "    </tr>\n",
       "    <tr>\n",
       "      <th>3</th>\n",
       "      <td>9180594</td>\n",
       "      <td>yumis.cells.s02.e14.episode.2.14.(2022).eng.1cd</td>\n",
       "      <td>1\\r\\n00:00:06,000 --&gt; 00:00:12,074\\r\\nWatch an...</td>\n",
       "      <td>Watch any video online with Open-SUBTITLESFree...</td>\n",
       "    </tr>\n",
       "    <tr>\n",
       "      <th>4</th>\n",
       "      <td>9180600</td>\n",
       "      <td>broker.(2022).eng.1cd</td>\n",
       "      <td>ï»¿1\\r\\n00:00:06,000 --&gt; 00:00:12,074\\r\\nWatch...</td>\n",
       "      <td>Watch any video online with Open-SUBTITLESFree...</td>\n",
       "    </tr>\n",
       "  </tbody>\n",
       "</table>\n",
       "</div>"
      ],
      "text/plain": [
       "       num                                               name  \\\n",
       "0  9180533                         the.message.(1976).eng.1cd   \n",
       "1  9180583  here.comes.the.grump.s01.e09.joltin.jack.in.bo...   \n",
       "2  9180592    yumis.cells.s02.e13.episode.2.13.(2022).eng.1cd   \n",
       "3  9180594    yumis.cells.s02.e14.episode.2.14.(2022).eng.1cd   \n",
       "4  9180600                              broker.(2022).eng.1cd   \n",
       "\n",
       "                                             content  \\\n",
       "0  1\\r\\n00:00:06,000 --> 00:00:12,074\\r\\nWatch an...   \n",
       "1  1\\r\\n00:00:29,359 --> 00:00:32,048\\r\\nAh! Ther...   \n",
       "2  1\\r\\n00:00:53,200 --> 00:00:56,030\\r\\n<i>Yumi'...   \n",
       "3  1\\r\\n00:00:06,000 --> 00:00:12,074\\r\\nWatch an...   \n",
       "4  ï»¿1\\r\\n00:00:06,000 --> 00:00:12,074\\r\\nWatch...   \n",
       "\n",
       "                                     cleaned_content  \n",
       "0  Watch any video online with Open-SUBTITLESFree...  \n",
       "1  Ah! There's PrincessDawn and Terry with the2Bl...  \n",
       "2  Yumi's Cells 22Episode 36Extremely Polite Yumi...  \n",
       "3  Watch any video online with Open-SUBTITLESFree...  \n",
       "4  Watch any video online with Open-SUBTITLESFree...  "
      ]
     },
     "execution_count": 4,
     "metadata": {},
     "output_type": "execute_result"
    }
   ],
   "source": [
    "subtitle_df.head()"
   ]
  },
  {
   "cell_type": "code",
   "execution_count": 7,
   "id": "77d8fbbe",
   "metadata": {},
   "outputs": [],
   "source": [
    "## step3: Data Preprocessing on train data\n",
    "import re\n",
    "import nltk\n",
    "from nltk.tokenize import word_tokenize\n",
    "from nltk.corpus import stopwords\n",
    "from nltk.stem.porter import PorterStemmer\n",
    "from nltk.stem import WordNetLemmatizer\n",
    "\n",
    "lemmatizer = WordNetLemmatizer()"
   ]
  },
  {
   "cell_type": "code",
   "execution_count": 8,
   "id": "01936896",
   "metadata": {},
   "outputs": [],
   "source": [
    "def preprocess(raw_text):\n",
    "    # Removing special characters and digits\n",
    "    sentence = re.sub(\"[^a-zA-Z]\", \" \", raw_text)\n",
    "    \n",
    "    # change sentence to lower case\n",
    "    sentence = sentence.lower()\n",
    "\n",
    "    # tokenize into words\n",
    "    tokens =nltk.word_tokenize(sentence)\n",
    "    \n",
    "      # Lemmatize\n",
    "    lemmatized_tokens = [lemmatizer.lemmatize(token) for token in tokens]\n",
    "    \n",
    "    # remove stop words                \n",
    "    stop_words = set(stopwords.words('english'))\n",
    "    filtered_tokens = [word for word in lemmatized_tokens if word.lower() not in stop_words]\n",
    "    \n",
    "     # Join and return\n",
    "    return \" \".join(filtered_tokens)"
   ]
  },
  {
   "cell_type": "code",
   "execution_count": 9,
   "id": "9cbb6af5",
   "metadata": {},
   "outputs": [],
   "source": [
    "from tqdm import tqdm, tqdm_notebook"
   ]
  },
  {
   "cell_type": "code",
   "execution_count": 10,
   "id": "73fde21f",
   "metadata": {},
   "outputs": [],
   "source": [
    "tqdm.pandas()"
   ]
  },
  {
   "cell_type": "code",
   "execution_count": 11,
   "id": "e27a64da",
   "metadata": {},
   "outputs": [
    {
     "name": "stderr",
     "output_type": "stream",
     "text": [
      "100%|██████████████████████████████████████████████████████████████████████████| 82498/82498 [1:06:29<00:00, 20.68it/s]\n"
     ]
    }
   ],
   "source": [
    "processed_content = subtitle_df[\"cleaned_content\"].progress_apply(lambda x: preprocess(x))"
   ]
  },
  {
   "cell_type": "code",
   "execution_count": 12,
   "id": "2d99e965",
   "metadata": {},
   "outputs": [],
   "source": [
    "#processed_content.to_csv('preprocessed_content.csv', index=False)"
   ]
  },
  {
   "cell_type": "code",
   "execution_count": 1,
   "id": "568ce3d1",
   "metadata": {},
   "outputs": [
    {
     "data": {
      "text/html": [
       "<div>\n",
       "<style scoped>\n",
       "    .dataframe tbody tr th:only-of-type {\n",
       "        vertical-align: middle;\n",
       "    }\n",
       "\n",
       "    .dataframe tbody tr th {\n",
       "        vertical-align: top;\n",
       "    }\n",
       "\n",
       "    .dataframe thead th {\n",
       "        text-align: right;\n",
       "    }\n",
       "</style>\n",
       "<table border=\"1\" class=\"dataframe\">\n",
       "  <thead>\n",
       "    <tr style=\"text-align: right;\">\n",
       "      <th></th>\n",
       "      <th>cleaned_content</th>\n",
       "    </tr>\n",
       "  </thead>\n",
       "  <tbody>\n",
       "    <tr>\n",
       "      <th>0</th>\n",
       "      <td>watch video online open subtitlesfree browser ...</td>\n",
       "    </tr>\n",
       "    <tr>\n",
       "      <th>1</th>\n",
       "      <td>ah princessdawn terry blooney looney soldiersp...</td>\n",
       "    </tr>\n",
       "    <tr>\n",
       "      <th>2</th>\n",
       "      <td>yumi cell episode extremely polite yumi yumi g...</td>\n",
       "    </tr>\n",
       "    <tr>\n",
       "      <th>3</th>\n",
       "      <td>watch video online open subtitlesfree browser ...</td>\n",
       "    </tr>\n",
       "    <tr>\n",
       "      <th>4</th>\n",
       "      <td>watch video online open subtitlesfree browser ...</td>\n",
       "    </tr>\n",
       "  </tbody>\n",
       "</table>\n",
       "</div>"
      ],
      "text/plain": [
       "                                     cleaned_content\n",
       "0  watch video online open subtitlesfree browser ...\n",
       "1  ah princessdawn terry blooney looney soldiersp...\n",
       "2  yumi cell episode extremely polite yumi yumi g...\n",
       "3  watch video online open subtitlesfree browser ...\n",
       "4  watch video online open subtitlesfree browser ..."
      ]
     },
     "execution_count": 1,
     "metadata": {},
     "output_type": "execute_result"
    }
   ],
   "source": [
    "import pandas as pd\n",
    "preprocessed_df=pd.read_csv(r\"C:\\Users\\91998\\OneDrive\\Desktop\\Internship_folder\\Search_Engine\\csv_files\\preprocessed_content.csv\")\n",
    "preprocessed_df.head()"
   ]
  },
  {
   "cell_type": "code",
   "execution_count": 2,
   "id": "0a215f75",
   "metadata": {},
   "outputs": [
    {
     "name": "stdout",
     "output_type": "stream",
     "text": [
      "<class 'pandas.core.frame.DataFrame'>\n",
      "RangeIndex: 82498 entries, 0 to 82497\n",
      "Data columns (total 1 columns):\n",
      " #   Column           Non-Null Count  Dtype \n",
      "---  ------           --------------  ----- \n",
      " 0   cleaned_content  82497 non-null  object\n",
      "dtypes: object(1)\n",
      "memory usage: 644.6+ KB\n"
     ]
    }
   ],
   "source": [
    "preprocessed_df.info()"
   ]
  },
  {
   "cell_type": "code",
   "execution_count": 3,
   "id": "cc706ef9",
   "metadata": {},
   "outputs": [],
   "source": [
    "preprocessed_df = preprocessed_df.dropna(subset=['cleaned_content'])"
   ]
  },
  {
   "cell_type": "markdown",
   "id": "38b93496",
   "metadata": {},
   "source": [
    "## BOW"
   ]
  },
  {
   "cell_type": "code",
   "execution_count": 18,
   "id": "984986eb",
   "metadata": {},
   "outputs": [
    {
     "data": {
      "text/plain": [
       "(82497, 2557036)"
      ]
     },
     "execution_count": 18,
     "metadata": {},
     "output_type": "execute_result"
    }
   ],
   "source": [
    "from sklearn.feature_extraction.text import CountVectorizer\n",
    "\n",
    "# Bag of Words (BOW)\n",
    "vectorizer_bow = CountVectorizer()\n",
    "bow_matrix = vectorizer_bow.fit_transform(preprocessed_df['cleaned_content'])\n",
    "\n",
    "bow_matrix.shape"
   ]
  },
  {
   "cell_type": "markdown",
   "id": "37f0cd63",
   "metadata": {},
   "source": [
    "## TFIDF"
   ]
  },
  {
   "cell_type": "code",
   "execution_count": 19,
   "id": "3944efeb",
   "metadata": {},
   "outputs": [
    {
     "data": {
      "text/plain": [
       "(82497, 2557036)"
      ]
     },
     "execution_count": 19,
     "metadata": {},
     "output_type": "execute_result"
    }
   ],
   "source": [
    "from sklearn.feature_extraction.text import  TfidfVectorizer\n",
    "# TFIDF\n",
    "vectorizer_tfidf = TfidfVectorizer()\n",
    "tfidf_matrix = vectorizer_tfidf.fit_transform(preprocessed_df['cleaned_content'])\n",
    "tfidf_matrix.shape"
   ]
  },
  {
   "cell_type": "markdown",
   "id": "a5438ea3",
   "metadata": {},
   "source": [
    "## BERT"
   ]
  },
  {
   "cell_type": "code",
   "execution_count": 4,
   "id": "6baa94ac",
   "metadata": {},
   "outputs": [],
   "source": [
    "from sentence_transformers import SentenceTransformer\n",
    "\n",
    "# Load SentenceTransformer model\n",
    "model = SentenceTransformer('paraphrase-MiniLM-L6-v2')\n",
    "\n",
    "# Generate embeddings\n",
    "embeddings = model.encode(preprocessed_df['cleaned_content'].tolist(), convert_to_tensor=True)\n",
    " "
   ]
  },
  {
   "cell_type": "code",
   "execution_count": 5,
   "id": "42f787f4",
   "metadata": {},
   "outputs": [
    {
     "data": {
      "text/plain": [
       "tensor([[-0.2353,  0.6819, -0.2076,  ..., -0.1899,  0.3273,  0.2456],\n",
       "        [-0.2543,  0.4076,  0.3067,  ...,  0.0557, -0.0776,  0.1360],\n",
       "        [-0.4014,  0.1876,  0.4278,  ...,  0.0759, -0.5714,  0.1475],\n",
       "        ...,\n",
       "        [-0.0559,  0.3400,  0.2181,  ..., -0.2866,  0.1645,  0.1213],\n",
       "        [-0.1985,  0.4563,  0.0225,  ..., -0.6298,  0.1717,  0.0029],\n",
       "        [-0.1153,  0.1704,  0.1474,  ..., -0.0688, -0.4391, -0.0498]])"
      ]
     },
     "execution_count": 5,
     "metadata": {},
     "output_type": "execute_result"
    }
   ],
   "source": [
    "embeddings"
   ]
  },
  {
   "cell_type": "code",
   "execution_count": 15,
   "id": "d310b0a4",
   "metadata": {},
   "outputs": [
    {
     "data": {
      "text/plain": [
       "torch.Size([82497, 384])"
      ]
     },
     "execution_count": 15,
     "metadata": {},
     "output_type": "execute_result"
    }
   ],
   "source": [
    "embeddings.size()"
   ]
  },
  {
   "cell_type": "code",
   "execution_count": 4,
   "id": "95b60037",
   "metadata": {},
   "outputs": [
    {
     "ename": "NameError",
     "evalue": "name 'embeddings' is not defined",
     "output_type": "error",
     "traceback": [
      "\u001b[1;31m---------------------------------------------------------------------------\u001b[0m",
      "\u001b[1;31mNameError\u001b[0m                                 Traceback (most recent call last)",
      "\u001b[1;32m~\\AppData\\Local\\Temp\\ipykernel_3728\\1085247302.py\u001b[0m in \u001b[0;36m<module>\u001b[1;34m\u001b[0m\n\u001b[0;32m      2\u001b[0m \u001b[1;33m\u001b[0m\u001b[0m\n\u001b[0;32m      3\u001b[0m \u001b[1;33m\u001b[0m\u001b[0m\n\u001b[1;32m----> 4\u001b[1;33m \u001b[0membeddings_df\u001b[0m \u001b[1;33m=\u001b[0m \u001b[0mpd\u001b[0m\u001b[1;33m.\u001b[0m\u001b[0mDataFrame\u001b[0m\u001b[1;33m(\u001b[0m\u001b[0membeddings\u001b[0m\u001b[1;33m.\u001b[0m\u001b[0mnumpy\u001b[0m\u001b[1;33m(\u001b[0m\u001b[1;33m)\u001b[0m\u001b[1;33m)\u001b[0m\u001b[1;33m\u001b[0m\u001b[1;33m\u001b[0m\u001b[0m\n\u001b[0m\u001b[0;32m      5\u001b[0m \u001b[1;33m\u001b[0m\u001b[0m\n\u001b[0;32m      6\u001b[0m \u001b[1;31m# Save DataFrame to CSV\u001b[0m\u001b[1;33m\u001b[0m\u001b[1;33m\u001b[0m\u001b[0m\n",
      "\u001b[1;31mNameError\u001b[0m: name 'embeddings' is not defined"
     ]
    }
   ],
   "source": [
    "import pandas as pd\n",
    "\n",
    "\n",
    "embeddings_df = pd.DataFrame(embeddings.numpy())\n",
    "\n",
    "# Save DataFrame to CSV\n",
    "#embeddings_df.to_csv('embeddings.csv', index=False, header=False)"
   ]
  },
  {
   "cell_type": "code",
   "execution_count": 5,
   "id": "a4ec7621",
   "metadata": {},
   "outputs": [],
   "source": [
    "import sqlite3\n",
    "import numpy as np\n",
    "from sentence_transformers import SentenceTransformer\n",
    "from sklearn.metrics.pairwise import cosine_similarity"
   ]
  },
  {
   "cell_type": "code",
   "execution_count": 6,
   "id": "3edbeda1",
   "metadata": {},
   "outputs": [],
   "source": [
    "# Create a new SQLite database or connect to an existing one\n",
    "conn = sqlite3.connect('chroma_db.db')\n",
    "c = conn.cursor()\n",
    "\n",
    "# Create table to store embeddings\n",
    "c.execute('''CREATE TABLE IF NOT EXISTS embeddings\n",
    "             (video_id TEXT, chunk_id INTEGER, embedding BLOB)''')\n",
    "\n",
    "conn.commit()\n"
   ]
  },
  {
   "cell_type": "code",
   "execution_count": 7,
   "id": "50932274",
   "metadata": {},
   "outputs": [],
   "source": [
    "def store_embeddings_in_db(video_id, embeddings):\n",
    "    \"\"\"\n",
    "    Store embeddings in ChromaDB.\n",
    "    \n",
    "    Parameters:\n",
    "    - video_id: ID of the video\n",
    "    - embeddings: List of embeddings to store\n",
    "    \"\"\"\n",
    "    for i, emb in enumerate(embeddings):\n",
    "        c.execute(\"INSERT INTO embeddings (video_id, chunk_id, embedding) VALUES (?, ?, ?)\",\n",
    "                  (video_id, i, sqlite3.Binary(emb)))\n",
    "    conn.commit()\n"
   ]
  },
  {
   "cell_type": "code",
   "execution_count": 9,
   "id": "f5f2686c",
   "metadata": {},
   "outputs": [],
   "source": [
    "def retrieve_embeddings_from_db(video_id):\n",
    "    \"\"\"\n",
    "    Retrieve embeddings from ChromaDB.\n",
    "    \n",
    "    Parameters:\n",
    "    - video_id: ID of the video\n",
    "    \n",
    "    Returns:\n",
    "    - List of embeddings\n",
    "    \"\"\"\n",
    "    c.execute(\"SELECT embedding FROM embeddings WHERE video_id=?\", (video_id,))\n",
    "    rows = c.fetchall()\n",
    "    embeddings = [np.frombuffer(row[0], dtype=np.float32) for row in rows]\n",
    "    return embeddings\n"
   ]
  },
  {
   "cell_type": "code",
   "execution_count": 10,
   "id": "6c9cfe1b",
   "metadata": {},
   "outputs": [],
   "source": [
    "def preprocess_query(query):\n",
    "    # Add preprocessing steps here if required\n",
    "    return query\n"
   ]
  },
  {
   "cell_type": "code",
   "execution_count": 11,
   "id": "8c9fd498",
   "metadata": {},
   "outputs": [],
   "source": [
    "def create_query_embedding(query):\n",
    "    model = SentenceTransformer('paraphrase-MiniLM-L6-v2')  # You can use any other SentenceTransformer model\n",
    "    query_embedding = model.encode([query])\n",
    "    return query_embedding\n"
   ]
  },
  {
   "cell_type": "code",
   "execution_count": 12,
   "id": "9317d926",
   "metadata": {},
   "outputs": [],
   "source": [
    "def calculate_similarity(video_id, query_embedding):\n",
    "    # Retrieve embeddings for the specified video from ChromaDB\n",
    "    video_embeddings = retrieve_embeddings_from_db(video_id)\n",
    "    \n",
    "    # Calculate cosine similarity between query embedding and video embeddings\n",
    "    similarities = [cosine_similarity(query_embedding, emb.reshape(1, -1))[0][0] for emb in video_embeddings]\n",
    "    \n",
    "    return similarities\n"
   ]
  },
  {
   "cell_type": "code",
   "execution_count": 13,
   "id": "a7b16205",
   "metadata": {},
   "outputs": [],
   "source": [
    "def retrieve_most_relevant_documents(video_id, query, top_n=5):\n",
    "    preprocessed_query = preprocess_query(query)\n",
    "    query_embedding = create_query_embedding(preprocessed_query)\n",
    "    \n",
    "    similarities = calculate_similarity(video_id, query_embedding)\n",
    "    \n",
    "    # Get indices of top N most similar chunks\n",
    "    top_indices = np.argsort(similarities)[-top_n:][::-1]\n",
    "    \n",
    "    # Retrieve the actual subtitles/chunks from the database or file based on the top indices\n",
    "    relevant_chunks = [f\"Chunk {i}: {'Subtitle Text'}\" for i in top_indices]  # Placeholder\n",
    "    \n",
    "    return relevant_chunks\n"
   ]
  },
  {
   "cell_type": "code",
   "execution_count": 14,
   "id": "6dc3e59d",
   "metadata": {},
   "outputs": [
    {
     "name": "stdout",
     "output_type": "stream",
     "text": [
      "[]\n"
     ]
    }
   ],
   "source": [
    "video_id = \"example_video\"\n",
    "query = \"your search query here\"\n",
    "\n",
    "# Retrieve most relevant documents\n",
    "relevant_documents = retrieve_most_relevant_documents(video_id, query)\n",
    "print(relevant_documents)\n"
   ]
  },
  {
   "cell_type": "code",
   "execution_count": 14,
   "id": "7b286125",
   "metadata": {},
   "outputs": [
    {
     "data": {
      "text/plain": [
       "torch.Size([82497, 384])"
      ]
     },
     "execution_count": 14,
     "metadata": {},
     "output_type": "execute_result"
    }
   ],
   "source": [
    "embeddings.size()"
   ]
  },
  {
   "cell_type": "code",
   "execution_count": 8,
   "id": "f2860dcc",
   "metadata": {},
   "outputs": [],
   "source": [
    "vectors=pd.read_csv(r\"C:\\Users\\91998\\OneDrive\\Desktop\\Internship_folder\\Search_Engine\\embeddings.csv\")"
   ]
  },
  {
   "cell_type": "code",
   "execution_count": 9,
   "id": "03401141",
   "metadata": {},
   "outputs": [
    {
     "data": {
      "text/html": [
       "<div>\n",
       "<style scoped>\n",
       "    .dataframe tbody tr th:only-of-type {\n",
       "        vertical-align: middle;\n",
       "    }\n",
       "\n",
       "    .dataframe tbody tr th {\n",
       "        vertical-align: top;\n",
       "    }\n",
       "\n",
       "    .dataframe thead th {\n",
       "        text-align: right;\n",
       "    }\n",
       "</style>\n",
       "<table border=\"1\" class=\"dataframe\">\n",
       "  <thead>\n",
       "    <tr style=\"text-align: right;\">\n",
       "      <th></th>\n",
       "      <th>-0.23528694</th>\n",
       "      <th>0.68194026</th>\n",
       "      <th>-0.20762983</th>\n",
       "      <th>-0.56756777</th>\n",
       "      <th>-0.09497115</th>\n",
       "      <th>0.1533612</th>\n",
       "      <th>0.25356835</th>\n",
       "      <th>-0.3048311</th>\n",
       "      <th>0.3378566</th>\n",
       "      <th>0.24762796</th>\n",
       "      <th>...</th>\n",
       "      <th>0.40654382</th>\n",
       "      <th>-0.18575114</th>\n",
       "      <th>0.28627804</th>\n",
       "      <th>-0.05794515</th>\n",
       "      <th>-0.10239918</th>\n",
       "      <th>0.35828227</th>\n",
       "      <th>0.060026817</th>\n",
       "      <th>-0.18990222</th>\n",
       "      <th>0.32729062</th>\n",
       "      <th>0.24560113</th>\n",
       "    </tr>\n",
       "  </thead>\n",
       "  <tbody>\n",
       "    <tr>\n",
       "      <th>0</th>\n",
       "      <td>-0.254260</td>\n",
       "      <td>0.407602</td>\n",
       "      <td>0.306741</td>\n",
       "      <td>-0.282999</td>\n",
       "      <td>-0.491599</td>\n",
       "      <td>-0.069591</td>\n",
       "      <td>0.993745</td>\n",
       "      <td>-0.291691</td>\n",
       "      <td>-0.190371</td>\n",
       "      <td>-0.142749</td>\n",
       "      <td>...</td>\n",
       "      <td>0.471920</td>\n",
       "      <td>-0.233267</td>\n",
       "      <td>-0.229729</td>\n",
       "      <td>0.169564</td>\n",
       "      <td>-0.588158</td>\n",
       "      <td>0.378377</td>\n",
       "      <td>-0.386424</td>\n",
       "      <td>0.055715</td>\n",
       "      <td>-0.077641</td>\n",
       "      <td>0.135979</td>\n",
       "    </tr>\n",
       "    <tr>\n",
       "      <th>1</th>\n",
       "      <td>-0.401395</td>\n",
       "      <td>0.187569</td>\n",
       "      <td>0.427840</td>\n",
       "      <td>0.018657</td>\n",
       "      <td>-0.483465</td>\n",
       "      <td>-0.130123</td>\n",
       "      <td>0.268526</td>\n",
       "      <td>-0.090406</td>\n",
       "      <td>-0.153078</td>\n",
       "      <td>0.078968</td>\n",
       "      <td>...</td>\n",
       "      <td>0.159433</td>\n",
       "      <td>-0.270341</td>\n",
       "      <td>0.266337</td>\n",
       "      <td>0.673169</td>\n",
       "      <td>0.357920</td>\n",
       "      <td>0.453328</td>\n",
       "      <td>-0.068693</td>\n",
       "      <td>0.075851</td>\n",
       "      <td>-0.571419</td>\n",
       "      <td>0.147531</td>\n",
       "    </tr>\n",
       "    <tr>\n",
       "      <th>2</th>\n",
       "      <td>-0.519580</td>\n",
       "      <td>-0.098217</td>\n",
       "      <td>0.339848</td>\n",
       "      <td>-0.236897</td>\n",
       "      <td>-0.268159</td>\n",
       "      <td>-0.127692</td>\n",
       "      <td>0.125231</td>\n",
       "      <td>-0.033015</td>\n",
       "      <td>0.043812</td>\n",
       "      <td>-0.034662</td>\n",
       "      <td>...</td>\n",
       "      <td>0.316880</td>\n",
       "      <td>-0.199304</td>\n",
       "      <td>0.212499</td>\n",
       "      <td>0.581604</td>\n",
       "      <td>0.040233</td>\n",
       "      <td>0.661260</td>\n",
       "      <td>0.162934</td>\n",
       "      <td>0.016919</td>\n",
       "      <td>-0.327428</td>\n",
       "      <td>0.115916</td>\n",
       "    </tr>\n",
       "    <tr>\n",
       "      <th>3</th>\n",
       "      <td>-0.084290</td>\n",
       "      <td>0.079209</td>\n",
       "      <td>0.479737</td>\n",
       "      <td>-0.283084</td>\n",
       "      <td>-0.049997</td>\n",
       "      <td>-0.041080</td>\n",
       "      <td>0.651616</td>\n",
       "      <td>-0.077211</td>\n",
       "      <td>-0.138057</td>\n",
       "      <td>-0.036446</td>\n",
       "      <td>...</td>\n",
       "      <td>0.397732</td>\n",
       "      <td>-0.323947</td>\n",
       "      <td>0.257993</td>\n",
       "      <td>0.408697</td>\n",
       "      <td>-0.275310</td>\n",
       "      <td>0.456013</td>\n",
       "      <td>-0.264807</td>\n",
       "      <td>0.252055</td>\n",
       "      <td>-0.279540</td>\n",
       "      <td>0.385999</td>\n",
       "    </tr>\n",
       "    <tr>\n",
       "      <th>4</th>\n",
       "      <td>-0.041927</td>\n",
       "      <td>0.483662</td>\n",
       "      <td>0.258255</td>\n",
       "      <td>-0.066078</td>\n",
       "      <td>-0.339929</td>\n",
       "      <td>0.014761</td>\n",
       "      <td>0.864491</td>\n",
       "      <td>-0.226859</td>\n",
       "      <td>0.109403</td>\n",
       "      <td>0.262193</td>\n",
       "      <td>...</td>\n",
       "      <td>0.146519</td>\n",
       "      <td>0.418031</td>\n",
       "      <td>0.203830</td>\n",
       "      <td>0.113073</td>\n",
       "      <td>-0.249144</td>\n",
       "      <td>0.501759</td>\n",
       "      <td>-0.291552</td>\n",
       "      <td>-0.212893</td>\n",
       "      <td>-0.306804</td>\n",
       "      <td>0.110402</td>\n",
       "    </tr>\n",
       "  </tbody>\n",
       "</table>\n",
       "<p>5 rows × 384 columns</p>\n",
       "</div>"
      ],
      "text/plain": [
       "   -0.23528694  0.68194026  -0.20762983  -0.56756777  -0.09497115  0.1533612  \\\n",
       "0    -0.254260    0.407602     0.306741    -0.282999    -0.491599  -0.069591   \n",
       "1    -0.401395    0.187569     0.427840     0.018657    -0.483465  -0.130123   \n",
       "2    -0.519580   -0.098217     0.339848    -0.236897    -0.268159  -0.127692   \n",
       "3    -0.084290    0.079209     0.479737    -0.283084    -0.049997  -0.041080   \n",
       "4    -0.041927    0.483662     0.258255    -0.066078    -0.339929   0.014761   \n",
       "\n",
       "   0.25356835  -0.3048311  0.3378566  0.24762796  ...  0.40654382  \\\n",
       "0    0.993745   -0.291691  -0.190371   -0.142749  ...    0.471920   \n",
       "1    0.268526   -0.090406  -0.153078    0.078968  ...    0.159433   \n",
       "2    0.125231   -0.033015   0.043812   -0.034662  ...    0.316880   \n",
       "3    0.651616   -0.077211  -0.138057   -0.036446  ...    0.397732   \n",
       "4    0.864491   -0.226859   0.109403    0.262193  ...    0.146519   \n",
       "\n",
       "   -0.18575114  0.28627804  -0.05794515  -0.10239918  0.35828227  0.060026817  \\\n",
       "0    -0.233267   -0.229729     0.169564    -0.588158    0.378377    -0.386424   \n",
       "1    -0.270341    0.266337     0.673169     0.357920    0.453328    -0.068693   \n",
       "2    -0.199304    0.212499     0.581604     0.040233    0.661260     0.162934   \n",
       "3    -0.323947    0.257993     0.408697    -0.275310    0.456013    -0.264807   \n",
       "4     0.418031    0.203830     0.113073    -0.249144    0.501759    -0.291552   \n",
       "\n",
       "   -0.18990222  0.32729062  0.24560113  \n",
       "0     0.055715   -0.077641    0.135979  \n",
       "1     0.075851   -0.571419    0.147531  \n",
       "2     0.016919   -0.327428    0.115916  \n",
       "3     0.252055   -0.279540    0.385999  \n",
       "4    -0.212893   -0.306804    0.110402  \n",
       "\n",
       "[5 rows x 384 columns]"
      ]
     },
     "execution_count": 9,
     "metadata": {},
     "output_type": "execute_result"
    }
   ],
   "source": [
    "vectors.head()"
   ]
  },
  {
   "cell_type": "code",
   "execution_count": 5,
   "id": "5c380b30",
   "metadata": {},
   "outputs": [],
   "source": [
    "def chunk_embeddings(embeddings_row, chunk_size=128, overlap=32):\n",
    "    embeddings = embeddings_row.values\n",
    "    for start in range(0, len(embeddings), chunk_size - overlap):\n",
    "        yield embeddings[start:start + chunk_size]"
   ]
  },
  {
   "cell_type": "code",
   "execution_count": 6,
   "id": "0c68ab14",
   "metadata": {},
   "outputs": [],
   "source": [
    "import sqlite3\n",
    "import pandas as pd\n",
    "import zipfile\n",
    "import io\n",
    "# Connect to SQLite database\n",
    "conn = sqlite3.connect(r\"C:\\Users\\91998\\OneDrive\\Desktop\\Internship_folder\\Search_Engine\\vectors.db\")\n",
    "cursor = conn.cursor()\n",
    "\n",
    "# Create table to store chunks\n",
    "cursor.execute('''CREATE TABLE IF NOT EXISTS chunks (\n",
    "                    id INTEGER PRIMARY KEY,\n",
    "                    document_id INTEGER NOT NULL,\n",
    "                    chunk_index INTEGER NOT NULL,\n",
    "                    embedding_chunk TEXT NOT NULL\n",
    "                )''')\n",
    "\n",
    "# Function to insert chunks into the SQLite database in batches\n",
    "def insert_chunks(document_id, chunks):\n",
    "    cursor.executemany(\"INSERT INTO chunks (document_id, chunk_index, embedding_chunk) VALUES (?, ?, ?)\",\n",
    "                       [(document_id, i+1, ','.join(map(str, chunk))) for i, chunk in enumerate(chunks)])\n",
    "    conn.commit()\n",
    "\n",
    "for idx, row in vectors.iterrows():\n",
    "    document_id = idx + 1  \n",
    "    \n",
    "    # Chunk the embeddings\n",
    "    chunks = chunk_embeddings(row)\n",
    "    \n",
    "    # Insert chunks into SQLite\n",
    "    insert_chunks(document_id, chunks)\n",
    "\n",
    "# Close connection to SQLite database\n",
    "conn.close()"
   ]
  },
  {
   "cell_type": "code",
   "execution_count": 10,
   "id": "53abce37",
   "metadata": {},
   "outputs": [
    {
     "data": {
      "text/html": [
       "<div>\n",
       "<style scoped>\n",
       "    .dataframe tbody tr th:only-of-type {\n",
       "        vertical-align: middle;\n",
       "    }\n",
       "\n",
       "    .dataframe tbody tr th {\n",
       "        vertical-align: top;\n",
       "    }\n",
       "\n",
       "    .dataframe thead th {\n",
       "        text-align: right;\n",
       "    }\n",
       "</style>\n",
       "<table border=\"1\" class=\"dataframe\">\n",
       "  <thead>\n",
       "    <tr style=\"text-align: right;\">\n",
       "      <th></th>\n",
       "      <th>id</th>\n",
       "      <th>document_id</th>\n",
       "      <th>chunk_index</th>\n",
       "      <th>embedding_chunk</th>\n",
       "    </tr>\n",
       "  </thead>\n",
       "  <tbody>\n",
       "    <tr>\n",
       "      <th>0</th>\n",
       "      <td>1</td>\n",
       "      <td>1</td>\n",
       "      <td>1</td>\n",
       "      <td>-0.25425997,0.40760165,0.30674076,-0.28299913,...</td>\n",
       "    </tr>\n",
       "    <tr>\n",
       "      <th>1</th>\n",
       "      <td>2</td>\n",
       "      <td>1</td>\n",
       "      <td>2</td>\n",
       "      <td>0.35028154,-0.11853625,-0.6772548,0.22706099,0...</td>\n",
       "    </tr>\n",
       "    <tr>\n",
       "      <th>2</th>\n",
       "      <td>3</td>\n",
       "      <td>1</td>\n",
       "      <td>3</td>\n",
       "      <td>-0.15815595,-0.15216613,-0.2958026,0.059707265...</td>\n",
       "    </tr>\n",
       "    <tr>\n",
       "      <th>3</th>\n",
       "      <td>4</td>\n",
       "      <td>1</td>\n",
       "      <td>4</td>\n",
       "      <td>-0.1082776,0.16064844,-0.11414268,0.40882686,0...</td>\n",
       "    </tr>\n",
       "    <tr>\n",
       "      <th>4</th>\n",
       "      <td>5</td>\n",
       "      <td>2</td>\n",
       "      <td>1</td>\n",
       "      <td>-0.40139484,0.18756877,0.42783958,0.018657252,...</td>\n",
       "    </tr>\n",
       "  </tbody>\n",
       "</table>\n",
       "</div>"
      ],
      "text/plain": [
       "   id  document_id  chunk_index  \\\n",
       "0   1            1            1   \n",
       "1   2            1            2   \n",
       "2   3            1            3   \n",
       "3   4            1            4   \n",
       "4   5            2            1   \n",
       "\n",
       "                                     embedding_chunk  \n",
       "0  -0.25425997,0.40760165,0.30674076,-0.28299913,...  \n",
       "1  0.35028154,-0.11853625,-0.6772548,0.22706099,0...  \n",
       "2  -0.15815595,-0.15216613,-0.2958026,0.059707265...  \n",
       "3  -0.1082776,0.16064844,-0.11414268,0.40882686,0...  \n",
       "4  -0.40139484,0.18756877,0.42783958,0.018657252,...  "
      ]
     },
     "execution_count": 10,
     "metadata": {},
     "output_type": "execute_result"
    }
   ],
   "source": [
    "conn = sqlite3.connect(r\"C:\\Users\\91998\\OneDrive\\Desktop\\Internship_folder\\Search_Engine\\vectors.db\")\n",
    "\n",
    "query = \"SELECT * FROM chunks\" \n",
    "    \n",
    "# Fetch data into a DataFrame\n",
    "vec_df = pd.read_sql_query(query, conn)\n",
    "    \n",
    "# Display the DataFrame\n",
    "vec_df.head()"
   ]
  },
  {
   "cell_type": "code",
   "execution_count": 11,
   "id": "159e8f80",
   "metadata": {},
   "outputs": [
    {
     "data": {
      "text/plain": [
       "(329984, 4)"
      ]
     },
     "execution_count": 11,
     "metadata": {},
     "output_type": "execute_result"
    }
   ],
   "source": [
    "vec_df.shape"
   ]
  },
  {
   "cell_type": "code",
   "execution_count": 12,
   "id": "5d108cf8",
   "metadata": {},
   "outputs": [],
   "source": [
    "import numpy as np\n",
    "vec_df = vec_df.drop('id',axis = 1)"
   ]
  },
  {
   "cell_type": "code",
   "execution_count": 13,
   "id": "06f074cb",
   "metadata": {},
   "outputs": [
    {
     "data": {
      "text/html": [
       "<div>\n",
       "<style scoped>\n",
       "    .dataframe tbody tr th:only-of-type {\n",
       "        vertical-align: middle;\n",
       "    }\n",
       "\n",
       "    .dataframe tbody tr th {\n",
       "        vertical-align: top;\n",
       "    }\n",
       "\n",
       "    .dataframe thead th {\n",
       "        text-align: right;\n",
       "    }\n",
       "</style>\n",
       "<table border=\"1\" class=\"dataframe\">\n",
       "  <thead>\n",
       "    <tr style=\"text-align: right;\">\n",
       "      <th></th>\n",
       "      <th>document_id</th>\n",
       "      <th>chunk_index</th>\n",
       "      <th>embedding_chunk</th>\n",
       "      <th>num</th>\n",
       "      <th>name</th>\n",
       "      <th>content</th>\n",
       "      <th>cleaned_content</th>\n",
       "      <th>temp_index</th>\n",
       "    </tr>\n",
       "  </thead>\n",
       "  <tbody>\n",
       "    <tr>\n",
       "      <th>0</th>\n",
       "      <td>1</td>\n",
       "      <td>1</td>\n",
       "      <td>-0.25425997,0.40760165,0.30674076,-0.28299913,...</td>\n",
       "      <td>9180533</td>\n",
       "      <td>the.message.(1976).eng.1cd</td>\n",
       "      <td>1\\r\\n00:00:06,000 --&gt; 00:00:12,074\\r\\nWatch an...</td>\n",
       "      <td>Watch any video online with Open-SUBTITLESFree...</td>\n",
       "      <td>1</td>\n",
       "    </tr>\n",
       "    <tr>\n",
       "      <th>1</th>\n",
       "      <td>1</td>\n",
       "      <td>2</td>\n",
       "      <td>0.35028154,-0.11853625,-0.6772548,0.22706099,0...</td>\n",
       "      <td>9180533</td>\n",
       "      <td>the.message.(1976).eng.1cd</td>\n",
       "      <td>1\\r\\n00:00:06,000 --&gt; 00:00:12,074\\r\\nWatch an...</td>\n",
       "      <td>Watch any video online with Open-SUBTITLESFree...</td>\n",
       "      <td>1</td>\n",
       "    </tr>\n",
       "    <tr>\n",
       "      <th>2</th>\n",
       "      <td>1</td>\n",
       "      <td>3</td>\n",
       "      <td>-0.15815595,-0.15216613,-0.2958026,0.059707265...</td>\n",
       "      <td>9180533</td>\n",
       "      <td>the.message.(1976).eng.1cd</td>\n",
       "      <td>1\\r\\n00:00:06,000 --&gt; 00:00:12,074\\r\\nWatch an...</td>\n",
       "      <td>Watch any video online with Open-SUBTITLESFree...</td>\n",
       "      <td>1</td>\n",
       "    </tr>\n",
       "    <tr>\n",
       "      <th>3</th>\n",
       "      <td>1</td>\n",
       "      <td>4</td>\n",
       "      <td>-0.1082776,0.16064844,-0.11414268,0.40882686,0...</td>\n",
       "      <td>9180533</td>\n",
       "      <td>the.message.(1976).eng.1cd</td>\n",
       "      <td>1\\r\\n00:00:06,000 --&gt; 00:00:12,074\\r\\nWatch an...</td>\n",
       "      <td>Watch any video online with Open-SUBTITLESFree...</td>\n",
       "      <td>1</td>\n",
       "    </tr>\n",
       "    <tr>\n",
       "      <th>4</th>\n",
       "      <td>2</td>\n",
       "      <td>1</td>\n",
       "      <td>-0.40139484,0.18756877,0.42783958,0.018657252,...</td>\n",
       "      <td>9180583</td>\n",
       "      <td>here.comes.the.grump.s01.e09.joltin.jack.in.bo...</td>\n",
       "      <td>1\\r\\n00:00:29,359 --&gt; 00:00:32,048\\r\\nAh! Ther...</td>\n",
       "      <td>Ah! There's PrincessDawn and Terry with the2Bl...</td>\n",
       "      <td>2</td>\n",
       "    </tr>\n",
       "  </tbody>\n",
       "</table>\n",
       "</div>"
      ],
      "text/plain": [
       "   document_id  chunk_index  \\\n",
       "0            1            1   \n",
       "1            1            2   \n",
       "2            1            3   \n",
       "3            1            4   \n",
       "4            2            1   \n",
       "\n",
       "                                     embedding_chunk      num  \\\n",
       "0  -0.25425997,0.40760165,0.30674076,-0.28299913,...  9180533   \n",
       "1  0.35028154,-0.11853625,-0.6772548,0.22706099,0...  9180533   \n",
       "2  -0.15815595,-0.15216613,-0.2958026,0.059707265...  9180533   \n",
       "3  -0.1082776,0.16064844,-0.11414268,0.40882686,0...  9180533   \n",
       "4  -0.40139484,0.18756877,0.42783958,0.018657252,...  9180583   \n",
       "\n",
       "                                                name  \\\n",
       "0                         the.message.(1976).eng.1cd   \n",
       "1                         the.message.(1976).eng.1cd   \n",
       "2                         the.message.(1976).eng.1cd   \n",
       "3                         the.message.(1976).eng.1cd   \n",
       "4  here.comes.the.grump.s01.e09.joltin.jack.in.bo...   \n",
       "\n",
       "                                             content  \\\n",
       "0  1\\r\\n00:00:06,000 --> 00:00:12,074\\r\\nWatch an...   \n",
       "1  1\\r\\n00:00:06,000 --> 00:00:12,074\\r\\nWatch an...   \n",
       "2  1\\r\\n00:00:06,000 --> 00:00:12,074\\r\\nWatch an...   \n",
       "3  1\\r\\n00:00:06,000 --> 00:00:12,074\\r\\nWatch an...   \n",
       "4  1\\r\\n00:00:29,359 --> 00:00:32,048\\r\\nAh! Ther...   \n",
       "\n",
       "                                     cleaned_content  temp_index  \n",
       "0  Watch any video online with Open-SUBTITLESFree...           1  \n",
       "1  Watch any video online with Open-SUBTITLESFree...           1  \n",
       "2  Watch any video online with Open-SUBTITLESFree...           1  \n",
       "3  Watch any video online with Open-SUBTITLESFree...           1  \n",
       "4  Ah! There's PrincessDawn and Terry with the2Bl...           2  "
      ]
     },
     "execution_count": 13,
     "metadata": {},
     "output_type": "execute_result"
    }
   ],
   "source": [
    "# Create a temporary index starting from 1 in original_df\n",
    "subtitle_df['temp_index'] = np.arange(1, len(subtitle_df) + 1)\n",
    "\n",
    "# Merge embeddings with original DataFrame based on 'temp_index'\n",
    "merged_df = pd.merge(vec_df,subtitle_df, left_on='document_id', right_on='temp_index', how='left')\n",
    "merged_df.head()"
   ]
  },
  {
   "cell_type": "code",
   "execution_count": 14,
   "id": "f2da0915",
   "metadata": {},
   "outputs": [],
   "source": [
    "\n",
    "merged_df = merged_df.drop('content',axis = 1)"
   ]
  },
  {
   "cell_type": "code",
   "execution_count": 15,
   "id": "10feb7c1",
   "metadata": {},
   "outputs": [],
   "source": [
    "##merged_df.to_csv(r\"C:\\Users\\91998\\OneDrive\\Desktop\\Internship_folder\\Search_Engine\\data\\\\final.csv\",escapechar='\\\\')"
   ]
  },
  {
   "cell_type": "code",
   "execution_count": 17,
   "id": "69df448b",
   "metadata": {},
   "outputs": [
    {
     "ename": "ParserError",
     "evalue": "Error tokenizing data. C error: out of memory",
     "output_type": "error",
     "traceback": [
      "\u001b[1;31m---------------------------------------------------------------------------\u001b[0m",
      "\u001b[1;31mParserError\u001b[0m                               Traceback (most recent call last)",
      "\u001b[1;32m~\\AppData\\Local\\Temp\\ipykernel_3728\\1243006757.py\u001b[0m in \u001b[0;36m<module>\u001b[1;34m\u001b[0m\n\u001b[0;32m      1\u001b[0m \u001b[1;32mimport\u001b[0m \u001b[0mpandas\u001b[0m \u001b[1;32mas\u001b[0m \u001b[0mpd\u001b[0m\u001b[1;33m\u001b[0m\u001b[1;33m\u001b[0m\u001b[0m\n\u001b[1;32m----> 2\u001b[1;33m \u001b[0mdf\u001b[0m \u001b[1;33m=\u001b[0m \u001b[0mpd\u001b[0m\u001b[1;33m.\u001b[0m\u001b[0mread_csv\u001b[0m\u001b[1;33m(\u001b[0m\u001b[1;34mr\"C:\\Users\\91998\\OneDrive\\Desktop\\Internship_folder\\Search_Engine\\data\\final.csv\"\u001b[0m\u001b[1;33m)\u001b[0m\u001b[1;33m\u001b[0m\u001b[1;33m\u001b[0m\u001b[0m\n\u001b[0m\u001b[0;32m      3\u001b[0m \u001b[0mdf\u001b[0m\u001b[1;33m.\u001b[0m\u001b[0mhead\u001b[0m\u001b[1;33m(\u001b[0m\u001b[1;33m)\u001b[0m\u001b[1;33m\u001b[0m\u001b[1;33m\u001b[0m\u001b[0m\n",
      "\u001b[1;32m~\\anaconda3\\lib\\site-packages\\pandas\\util\\_decorators.py\u001b[0m in \u001b[0;36mwrapper\u001b[1;34m(*args, **kwargs)\u001b[0m\n\u001b[0;32m    309\u001b[0m                     \u001b[0mstacklevel\u001b[0m\u001b[1;33m=\u001b[0m\u001b[0mstacklevel\u001b[0m\u001b[1;33m,\u001b[0m\u001b[1;33m\u001b[0m\u001b[1;33m\u001b[0m\u001b[0m\n\u001b[0;32m    310\u001b[0m                 )\n\u001b[1;32m--> 311\u001b[1;33m             \u001b[1;32mreturn\u001b[0m \u001b[0mfunc\u001b[0m\u001b[1;33m(\u001b[0m\u001b[1;33m*\u001b[0m\u001b[0margs\u001b[0m\u001b[1;33m,\u001b[0m \u001b[1;33m**\u001b[0m\u001b[0mkwargs\u001b[0m\u001b[1;33m)\u001b[0m\u001b[1;33m\u001b[0m\u001b[1;33m\u001b[0m\u001b[0m\n\u001b[0m\u001b[0;32m    312\u001b[0m \u001b[1;33m\u001b[0m\u001b[0m\n\u001b[0;32m    313\u001b[0m         \u001b[1;32mreturn\u001b[0m \u001b[0mwrapper\u001b[0m\u001b[1;33m\u001b[0m\u001b[1;33m\u001b[0m\u001b[0m\n",
      "\u001b[1;32m~\\anaconda3\\lib\\site-packages\\pandas\\io\\parsers\\readers.py\u001b[0m in \u001b[0;36mread_csv\u001b[1;34m(filepath_or_buffer, sep, delimiter, header, names, index_col, usecols, squeeze, prefix, mangle_dupe_cols, dtype, engine, converters, true_values, false_values, skipinitialspace, skiprows, skipfooter, nrows, na_values, keep_default_na, na_filter, verbose, skip_blank_lines, parse_dates, infer_datetime_format, keep_date_col, date_parser, dayfirst, cache_dates, iterator, chunksize, compression, thousands, decimal, lineterminator, quotechar, quoting, doublequote, escapechar, comment, encoding, encoding_errors, dialect, error_bad_lines, warn_bad_lines, on_bad_lines, delim_whitespace, low_memory, memory_map, float_precision, storage_options)\u001b[0m\n\u001b[0;32m    676\u001b[0m     \u001b[0mkwds\u001b[0m\u001b[1;33m.\u001b[0m\u001b[0mupdate\u001b[0m\u001b[1;33m(\u001b[0m\u001b[0mkwds_defaults\u001b[0m\u001b[1;33m)\u001b[0m\u001b[1;33m\u001b[0m\u001b[1;33m\u001b[0m\u001b[0m\n\u001b[0;32m    677\u001b[0m \u001b[1;33m\u001b[0m\u001b[0m\n\u001b[1;32m--> 678\u001b[1;33m     \u001b[1;32mreturn\u001b[0m \u001b[0m_read\u001b[0m\u001b[1;33m(\u001b[0m\u001b[0mfilepath_or_buffer\u001b[0m\u001b[1;33m,\u001b[0m \u001b[0mkwds\u001b[0m\u001b[1;33m)\u001b[0m\u001b[1;33m\u001b[0m\u001b[1;33m\u001b[0m\u001b[0m\n\u001b[0m\u001b[0;32m    679\u001b[0m \u001b[1;33m\u001b[0m\u001b[0m\n\u001b[0;32m    680\u001b[0m \u001b[1;33m\u001b[0m\u001b[0m\n",
      "\u001b[1;32m~\\anaconda3\\lib\\site-packages\\pandas\\io\\parsers\\readers.py\u001b[0m in \u001b[0;36m_read\u001b[1;34m(filepath_or_buffer, kwds)\u001b[0m\n\u001b[0;32m    579\u001b[0m \u001b[1;33m\u001b[0m\u001b[0m\n\u001b[0;32m    580\u001b[0m     \u001b[1;32mwith\u001b[0m \u001b[0mparser\u001b[0m\u001b[1;33m:\u001b[0m\u001b[1;33m\u001b[0m\u001b[1;33m\u001b[0m\u001b[0m\n\u001b[1;32m--> 581\u001b[1;33m         \u001b[1;32mreturn\u001b[0m \u001b[0mparser\u001b[0m\u001b[1;33m.\u001b[0m\u001b[0mread\u001b[0m\u001b[1;33m(\u001b[0m\u001b[0mnrows\u001b[0m\u001b[1;33m)\u001b[0m\u001b[1;33m\u001b[0m\u001b[1;33m\u001b[0m\u001b[0m\n\u001b[0m\u001b[0;32m    582\u001b[0m \u001b[1;33m\u001b[0m\u001b[0m\n\u001b[0;32m    583\u001b[0m \u001b[1;33m\u001b[0m\u001b[0m\n",
      "\u001b[1;32m~\\anaconda3\\lib\\site-packages\\pandas\\io\\parsers\\readers.py\u001b[0m in \u001b[0;36mread\u001b[1;34m(self, nrows)\u001b[0m\n\u001b[0;32m   1251\u001b[0m             \u001b[0mnrows\u001b[0m \u001b[1;33m=\u001b[0m \u001b[0mvalidate_integer\u001b[0m\u001b[1;33m(\u001b[0m\u001b[1;34m\"nrows\"\u001b[0m\u001b[1;33m,\u001b[0m \u001b[0mnrows\u001b[0m\u001b[1;33m)\u001b[0m\u001b[1;33m\u001b[0m\u001b[1;33m\u001b[0m\u001b[0m\n\u001b[0;32m   1252\u001b[0m             \u001b[1;32mtry\u001b[0m\u001b[1;33m:\u001b[0m\u001b[1;33m\u001b[0m\u001b[1;33m\u001b[0m\u001b[0m\n\u001b[1;32m-> 1253\u001b[1;33m                 \u001b[0mindex\u001b[0m\u001b[1;33m,\u001b[0m \u001b[0mcolumns\u001b[0m\u001b[1;33m,\u001b[0m \u001b[0mcol_dict\u001b[0m \u001b[1;33m=\u001b[0m \u001b[0mself\u001b[0m\u001b[1;33m.\u001b[0m\u001b[0m_engine\u001b[0m\u001b[1;33m.\u001b[0m\u001b[0mread\u001b[0m\u001b[1;33m(\u001b[0m\u001b[0mnrows\u001b[0m\u001b[1;33m)\u001b[0m\u001b[1;33m\u001b[0m\u001b[1;33m\u001b[0m\u001b[0m\n\u001b[0m\u001b[0;32m   1254\u001b[0m             \u001b[1;32mexcept\u001b[0m \u001b[0mException\u001b[0m\u001b[1;33m:\u001b[0m\u001b[1;33m\u001b[0m\u001b[1;33m\u001b[0m\u001b[0m\n\u001b[0;32m   1255\u001b[0m                 \u001b[0mself\u001b[0m\u001b[1;33m.\u001b[0m\u001b[0mclose\u001b[0m\u001b[1;33m(\u001b[0m\u001b[1;33m)\u001b[0m\u001b[1;33m\u001b[0m\u001b[1;33m\u001b[0m\u001b[0m\n",
      "\u001b[1;32m~\\anaconda3\\lib\\site-packages\\pandas\\io\\parsers\\c_parser_wrapper.py\u001b[0m in \u001b[0;36mread\u001b[1;34m(self, nrows)\u001b[0m\n\u001b[0;32m    223\u001b[0m         \u001b[1;32mtry\u001b[0m\u001b[1;33m:\u001b[0m\u001b[1;33m\u001b[0m\u001b[1;33m\u001b[0m\u001b[0m\n\u001b[0;32m    224\u001b[0m             \u001b[1;32mif\u001b[0m \u001b[0mself\u001b[0m\u001b[1;33m.\u001b[0m\u001b[0mlow_memory\u001b[0m\u001b[1;33m:\u001b[0m\u001b[1;33m\u001b[0m\u001b[1;33m\u001b[0m\u001b[0m\n\u001b[1;32m--> 225\u001b[1;33m                 \u001b[0mchunks\u001b[0m \u001b[1;33m=\u001b[0m \u001b[0mself\u001b[0m\u001b[1;33m.\u001b[0m\u001b[0m_reader\u001b[0m\u001b[1;33m.\u001b[0m\u001b[0mread_low_memory\u001b[0m\u001b[1;33m(\u001b[0m\u001b[0mnrows\u001b[0m\u001b[1;33m)\u001b[0m\u001b[1;33m\u001b[0m\u001b[1;33m\u001b[0m\u001b[0m\n\u001b[0m\u001b[0;32m    226\u001b[0m                 \u001b[1;31m# destructive to chunks\u001b[0m\u001b[1;33m\u001b[0m\u001b[1;33m\u001b[0m\u001b[0m\n\u001b[0;32m    227\u001b[0m                 \u001b[0mdata\u001b[0m \u001b[1;33m=\u001b[0m \u001b[0m_concatenate_chunks\u001b[0m\u001b[1;33m(\u001b[0m\u001b[0mchunks\u001b[0m\u001b[1;33m)\u001b[0m\u001b[1;33m\u001b[0m\u001b[1;33m\u001b[0m\u001b[0m\n",
      "\u001b[1;32m~\\anaconda3\\lib\\site-packages\\pandas\\_libs\\parsers.pyx\u001b[0m in \u001b[0;36mpandas._libs.parsers.TextReader.read_low_memory\u001b[1;34m()\u001b[0m\n",
      "\u001b[1;32m~\\anaconda3\\lib\\site-packages\\pandas\\_libs\\parsers.pyx\u001b[0m in \u001b[0;36mpandas._libs.parsers.TextReader._read_rows\u001b[1;34m()\u001b[0m\n",
      "\u001b[1;32m~\\anaconda3\\lib\\site-packages\\pandas\\_libs\\parsers.pyx\u001b[0m in \u001b[0;36mpandas._libs.parsers.TextReader._tokenize_rows\u001b[1;34m()\u001b[0m\n",
      "\u001b[1;32m~\\anaconda3\\lib\\site-packages\\pandas\\_libs\\parsers.pyx\u001b[0m in \u001b[0;36mpandas._libs.parsers.raise_parser_error\u001b[1;34m()\u001b[0m\n",
      "\u001b[1;31mParserError\u001b[0m: Error tokenizing data. C error: out of memory"
     ]
    }
   ],
   "source": [
    "import pandas as pd\n",
    "df = pd.read_csv(r\"C:\\Users\\91998\\OneDrive\\Desktop\\Internship_folder\\Search_Engine\\data\\final.csv\")\n",
    "df.head()"
   ]
  },
  {
   "cell_type": "code",
   "execution_count": null,
   "id": "977d5a51",
   "metadata": {},
   "outputs": [],
   "source": []
  }
 ],
 "metadata": {
  "kernelspec": {
   "display_name": "Python 3 (ipykernel)",
   "language": "python",
   "name": "python3"
  },
  "language_info": {
   "codemirror_mode": {
    "name": "ipython",
    "version": 3
   },
   "file_extension": ".py",
   "mimetype": "text/x-python",
   "name": "python",
   "nbconvert_exporter": "python",
   "pygments_lexer": "ipython3",
   "version": "3.9.13"
  }
 },
 "nbformat": 4,
 "nbformat_minor": 5
}
